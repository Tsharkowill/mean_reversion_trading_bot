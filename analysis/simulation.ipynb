{
 "cells": [
  {
   "cell_type": "code",
   "execution_count": 28,
   "id": "c473d11e-8c7a-4668-9fcc-192ff887e2b0",
   "metadata": {},
   "outputs": [],
   "source": [
    "import pandas as pd\n",
    "import numpy as np\n",
    "import json\n",
    "\n",
    "class MeanRevStrategy:\n",
    "    def __init__(self, price_data):\n",
    "        self.price_data = price_data  # DataFrame with timestamp indexed asset prices\n",
    "        self.leverage = 50\n",
    "        self.initial_portfolio_value = 2000\n",
    "\n",
    "    def calculate_zscore(self, spread_series, window):\n",
    "        mean = spread_series.rolling(window=window).mean()\n",
    "        std = spread_series.rolling(window=window).std()\n",
    "        z_score = (spread_series - mean) / std\n",
    "        return z_score\n",
    "\n",
    "    def simulate_trade(self, market, POSITION_SIZE, Z_SCORE, window):\n",
    "        spread_series = self.price_data[market]\n",
    "        z_score_series = self.calculate_zscore(spread_series, window)\n",
    "\n",
    "        # Initialize portfolio values tracking\n",
    "        portfolio_value = self.initial_portfolio_value\n",
    "        in_position = False\n",
    "        position_type = None  # Track whether the position is long or short\n",
    "\n",
    "        for idx in range(len(self.price_data)):\n",
    "            current_z_score = z_score_series.iloc[idx]\n",
    "            current_price = spread_series.iloc[idx]\n",
    "            trade_return = 0.0\n",
    "\n",
    "            # Flipping positions based on Z_SCORE threshold\n",
    "            if in_position:\n",
    "                # Calculate return based on price change since entry\n",
    "                price_increase = (current_price - entry_price) * ((POSITION_SIZE * self.leverage) / entry_price)\n",
    "                if position_type == \"long\" and current_z_score >= Z_SCORE:\n",
    "                    trade_return = price_increase - (POSITION_SIZE * self.leverage) * 0.02\n",
    "                    in_position, position_type, entry_price = False, None, None\n",
    "            elif not in_position:\n",
    "                if current_z_score <= -Z_SCORE:  # Enter long position\n",
    "                    in_position, position_type, entry_price = True, \"long\", current_price\n",
    "\n",
    "            portfolio_value += trade_return\n",
    "\n",
    "        # Exiting the last open position at the end of the data\n",
    "        if in_position:\n",
    "            # Simulate exiting the position with no additional profit or loss\n",
    "            in_position, position_type = False, None\n",
    "\n",
    "        # Returning the portfolio values for further analysis\n",
    "        return portfolio_value\n",
    "\n",
    "    def run_monte_carlo_simulation(self, iterations):\n",
    "        best_parameters = {}\n",
    "        highest_returns = -np.inf\n",
    "\n",
    "        for _ in range(iterations):\n",
    "            WINDOW = np.random.randint(290, 310)\n",
    "            POSITION_SIZE = 1\n",
    "            Z_SCORE = np.random.uniform(2.9, 3.1)\n",
    "            total_returns = self.trade_all_markets(WINDOW, POSITION_SIZE, Z_SCORE)\n",
    "            # Check if this simulation yielded higher returns than previous best\n",
    "            if total_returns > highest_returns:\n",
    "                highest_returns = total_returns\n",
    "                best_parameters = {\n",
    "                    'returns': highest_returns,\n",
    "                    'window': WINDOW,\n",
    "                    'position_size': POSITION_SIZE,\n",
    "                    'z_score': Z_SCORE\n",
    "                }\n",
    "\n",
    "        # Save the best parameters to a JSON file\n",
    "        with open('best_parameters.json', 'w') as f:\n",
    "            json.dump(best_parameters, f, indent=4)\n",
    "\n",
    "        return best_parameters\n",
    "\n",
    "    def trade_all_markets(self, WINDOW, POSITION_SIZE, Z_SCORE):\n",
    "        total_returns = 0.0\n",
    "        for market in self.price_data.columns:\n",
    "            if market == 'time':\n",
    "                continue\n",
    "\n",
    "            portfolio_value = self.simulate_trade(market, POSITION_SIZE, Z_SCORE, WINDOW)\n",
    "            returns = portfolio_value - self.initial_portfolio_value\n",
    "            total_returns += returns\n",
    "\n",
    "        return total_returns\n"
   ]
  },
  {
   "cell_type": "code",
   "execution_count": 29,
   "id": "1b0088a2-6d86-4d7c-b78f-be5237bbb54e",
   "metadata": {},
   "outputs": [
    {
     "name": "stdout",
     "output_type": "stream",
     "text": [
      "{'returns': 65.38119585037248, 'window': 304, 'position_size': 1, 'z_score': 3.0869760767056573}\n"
     ]
    }
   ],
   "source": [
    "data_15m = pd.read_csv('data_test_15m.csv')\n",
    "data_15m = data_15m.tail(2000)\n",
    "\n",
    "strategy = MeanRevStrategy(data_15m)\n",
    "best_params_15m = strategy.run_monte_carlo_simulation(iterations=20)\n",
    "print(best_params_15m)"
   ]
  },
  {
   "cell_type": "code",
   "execution_count": 27,
   "id": "e9e8a775-ebdb-4c71-a802-a1a42061798a",
   "metadata": {},
   "outputs": [
    {
     "name": "stdout",
     "output_type": "stream",
     "text": [
      "{'returns': 49.085937340701776, 'window': 455, 'position_size': 1, 'z_score': 2.583233744083843}\n"
     ]
    }
   ],
   "source": [
    "data_1H = pd.read_csv('data_test_1H.csv')\n",
    "data_1H = data_1H.tail(2000)\n",
    "\n",
    "strategy = MeanRevStrategy(data_1H)\n",
    "best_params_1H = strategy.run_monte_carlo_simulation(iterations=10)\n",
    "print(best_params_1H)"
   ]
  },
  {
   "cell_type": "code",
   "execution_count": 24,
   "id": "3ccfbd38-ed19-4bfe-a194-984ce3599618",
   "metadata": {},
   "outputs": [
    {
     "name": "stdout",
     "output_type": "stream",
     "text": [
      "{'returns': 65.86947490532543, 'window': 306, 'position_size': 1, 'z_score': 3.071749251219703}\n"
     ]
    }
   ],
   "source": [
    "data_15m = pd.read_csv('data_test_15m.csv')\n",
    "data_15m = data_15m.tail(2000)\n",
    "\n",
    "strategy = MeanRevStrategy(data_15m)\n",
    "best_params_15m = strategy.run_monte_carlo_simulation(iterations=1000)\n",
    "print(best_params_15m)"
   ]
  },
  {
   "cell_type": "code",
   "execution_count": 25,
   "id": "2e9b5f4b-fc44-4c15-b82e-67e5d3ccb85e",
   "metadata": {},
   "outputs": [
    {
     "name": "stdout",
     "output_type": "stream",
     "text": [
      "{'returns': 46.442150018695656, 'window': 379, 'position_size': 1, 'z_score': 2.5835775902305604}\n"
     ]
    }
   ],
   "source": [
    "data_1H = pd.read_csv('data_test_1H.csv')\n",
    "data_1H = data_1H.tail(2000)\n",
    "\n",
    "strategy = MeanRevStrategy(data_1H)\n",
    "best_params_1H = strategy.run_monte_carlo_simulation(iterations=1000)\n",
    "print(best_params_1H)"
   ]
  },
  {
   "cell_type": "code",
   "execution_count": null,
   "id": "178dbdb7-eba5-4dd0-ad79-573132092fc9",
   "metadata": {},
   "outputs": [],
   "source": []
  }
 ],
 "metadata": {
  "kernelspec": {
   "display_name": "Python 3 (ipykernel)",
   "language": "python",
   "name": "python3"
  },
  "language_info": {
   "codemirror_mode": {
    "name": "ipython",
    "version": 3
   },
   "file_extension": ".py",
   "mimetype": "text/x-python",
   "name": "python",
   "nbconvert_exporter": "python",
   "pygments_lexer": "ipython3",
   "version": "3.11.7"
  }
 },
 "nbformat": 4,
 "nbformat_minor": 5
}
