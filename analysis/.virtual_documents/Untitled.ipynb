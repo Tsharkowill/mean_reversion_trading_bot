import pandas as pd

# Load your existing dataset
df = pd.read_csv('provincial_migration_2021-2023.csv')

# Generate t-values from 0 to 1 in increments of 0.01, then add 2.00
t_values = [round(x * 0.01, 2) for x in range(101)] + [2.00]

# Create a new DataFrame to store the expanded dataset
expanded_df = pd.DataFrame()

# Iterate over each t-value and replicate the rows in the original DataFrame
for t in t_values:
    temp_df = df.copy()
    temp_df['t'] = t
    expanded_df = pd.concat([expanded_df, temp_df], ignore_index=True)

# Save the expanded dataset to a CSV file
expanded_df.to_csv('expanded_data.csv', index=False)

print("Dataset expanded and saved to 'expanded_data.csv'")



# Load your existing dataset
df = pd.read_csv('your_existing_data.csv')

# Generate t-values from 0 to 1 in increments of 0.01, then add 2.00
t_values = [round(x * 0.01, 2) for x in range(101)] + [2.00]

# List of years for which you want to generate the data
years = [2020, 2021, 2022]

# Create a new DataFrame to store the expanded dataset
expanded_df = pd.DataFrame()

# Iterate over each year and each t-value to replicate the rows
for year in years:
    for t in t_values:
        temp_df = df.copy()
        temp_df['year'] = year
        temp_df['t'] = t
        expanded_df = pd.concat([expanded_df, temp_df], ignore_index=True)

# Save the expanded dataset to a CSV file
expanded_df.to_csv('expanded_data_with_years.csv', index=False)

print("Dataset expanded with years and saved to 'expanded_data_with_years.csv'")

