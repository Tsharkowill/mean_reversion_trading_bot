{
 "cells": [
  {
   "cell_type": "code",
   "execution_count": 10,
   "id": "741a9a43-5778-4b96-89a2-8cbba12631d0",
   "metadata": {},
   "outputs": [],
   "source": [
    "import numpy as np\n",
    "import pandas as pd\n",
    "import json\n",
    "import matplotlib.pyplot as plt\n",
    "import seaborn as sns\n",
    "\n",
    "sns.set_style('whitegrid')"
   ]
  },
  {
   "cell_type": "code",
   "execution_count": 27,
   "id": "20ca6b5c-11db-4b14-b289-3b27f95199d4",
   "metadata": {},
   "outputs": [],
   "source": [
    "class MeanRevStrategy:\n",
    "    def __init__(self, price_data):\n",
    "        self.price_data = price_data  # DataFrame with timestamp indexed asset prices\n",
    "        self.leverage = 50\n",
    "        self.initial_portfolio_value = 2000\n",
    "    \n",
    "    def calculate_zscore(self, market):\n",
    "            spread_series = self.price_data[market]\n",
    "            mean = spread_series.rolling(window=300).mean()\n",
    "            std = spread_series.rolling(window=300).std()\n",
    "            self.price_data[f'z_score_{market}'] = (spread_series - mean) / std\n",
    "\n",
    "    def simulate_trade(self, market, POSITION_SIZE, Z_SCORE):\n",
    "        # # Calculate Z-scores for the given market\n",
    "        self.calculate_zscore(market)\n",
    "\n",
    "        # Initialize portfolio values tracking\n",
    "        portfolio_value = self.initial_portfolio_value\n",
    "        in_position = False\n",
    "        position_type = None  # Track whether the position is long or short\n",
    "        \n",
    "        z_score_column = f'z_score_{market}'\n",
    "        price_column = market\n",
    "        \n",
    "        for _, row in self.price_data.iterrows():\n",
    "            current_z_score = row[z_score_column]\n",
    "            current_price = row[price_column]\n",
    "            trade_return = 0.0\n",
    "\n",
    "            # Flipping positions based on Z_SCORE threshold\n",
    "            if in_position:\n",
    "            # Calculate return based on price change since entry\n",
    "                price_increase = (current_price - entry_price) * ((POSITION_SIZE * self.leverage) / entry_price)\n",
    "                if position_type == \"long\" and current_z_score >= Z_SCORE:\n",
    "                    trade_return = price_increase - (POSITION_SIZE * self.leverage) * 0.02\n",
    "                    in_position, position_type, entry_price = False, None, None\n",
    "                        \n",
    "            elif not in_position:\n",
    "                if current_z_score <= -Z_SCORE:  # Enter long position\n",
    "                    in_position, position_type, entry_price = True, \"long\", current_price\n",
    "                \n",
    "\n",
    "\n",
    "            portfolio_value += trade_return\n",
    "\n",
    "\n",
    "        # Exiting the last open position at the end of the data\n",
    "        if in_position:\n",
    "            # Simulate exiting the position with no additional profit or loss\n",
    "            # You may adjust this part based on your strategy for exiting the final open position\n",
    "            in_position, position_type = False, None\n",
    "\n",
    "        # Returning the portfolio values for further analysis\n",
    "        return portfolio_value\n",
    "\n",
    "    def run_monte_carlo_simulation(self, iterations):\n",
    "        best_parameters = {}\n",
    "        highest_returns = -np.inf\n",
    "\n",
    "        for _ in range(iterations):\n",
    "            WINDOW = 300\n",
    "            POSITION_SIZE = 1\n",
    "            Z_SCORE = np.random.uniform(2.5, 3.5)\n",
    "            total_returns = self.trade_all_markets(WINDOW, POSITION_SIZE, Z_SCORE)\n",
    "            # Check if this simulation yielded higher returns than previous best\n",
    "            if total_returns > highest_returns:\n",
    "                highest_returns = total_returns\n",
    "                best_parameters = {\n",
    "                    'returns': highest_returns,\n",
    "                    'window': WINDOW,\n",
    "                    'position_size': POSITION_SIZE,\n",
    "                    'z_score': Z_SCORE\n",
    "                }\n",
    "\n",
    "        # Save the best parameters to a JSON file\n",
    "        with open('best_parameters.json', 'w') as f:\n",
    "            json.dump(best_parameters, f, indent=4)\n",
    "\n",
    "        return best_parameters\n",
    "\n",
    "    def trade_all_markets(self, WINDOW, POSITION_SIZE, Z_SCORE):\n",
    "        \n",
    "        total_returns = 0.0\n",
    "        for market in self.price_data:\n",
    "            if market == 'time' or market.startswith('z_score_'):\n",
    "                continue\n",
    "\n",
    "            portfolio_value = self.simulate_trade(market, POSITION_SIZE, Z_SCORE)\n",
    "            returns = portfolio_value - self.initial_portfolio_value\n",
    "            total_returns += returns\n",
    "           \n",
    "\n",
    "        return total_returns"
   ]
  },
  {
   "cell_type": "code",
   "execution_count": 32,
   "id": "3f822f59-57e7-4ead-bdf0-ee1f6d8632a5",
   "metadata": {},
   "outputs": [
    {
     "data": {
      "text/plain": [
       "{'returns': 64.29350903945328,\n",
       " 'window': 300,\n",
       " 'position_size': 1,\n",
       " 'z_score': 3.0511790550534275}"
      ]
     },
     "execution_count": 32,
     "metadata": {},
     "output_type": "execute_result"
    }
   ],
   "source": [
    "data_15m = pd.read_csv('data_test_15m.csv')\n",
    "data_15m = data_15m.tail(2000)\n",
    "\n",
    "\n",
    "scalping_15m = MeanRevStrategy(data_15m)\n",
    "for market in scalping_15m.price_data:\n",
    "    # Skip 'time' or any non-market column if present\n",
    "    if market == 'time':\n",
    "        continue\n",
    "    scalping_15m.calculate_zscore(market)\n",
    "scalping_15m.run_monte_carlo_simulation(100)"
   ]
  },
  {
   "cell_type": "code",
   "execution_count": 33,
   "id": "22ef1dce-5c94-4017-a471-ff258c2dd2fb",
   "metadata": {},
   "outputs": [
    {
     "data": {
      "text/plain": [
       "{'returns': 29.707762670467673,\n",
       " 'window': 300,\n",
       " 'position_size': 1,\n",
       " 'z_score': 2.9940537039221518}"
      ]
     },
     "execution_count": 33,
     "metadata": {},
     "output_type": "execute_result"
    }
   ],
   "source": [
    "data_1H = pd.read_csv('data_test_1H.csv')\n",
    "data_1H = data_1H.tail(2000)\n",
    "\n",
    "\n",
    "scalping_1H = MeanRevStrategy(data_1H)\n",
    "for market in scalping_1H.price_data:\n",
    "    # Skip 'time' or any non-market column if present\n",
    "    if market == 'time':\n",
    "        continue\n",
    "    scalping_1H.calculate_zscore(market)\n",
    "scalping_1H.run_monte_carlo_simulation(100)"
   ]
  },
  {
   "cell_type": "code",
   "execution_count": null,
   "id": "4a25f0e5-42ac-4e2c-ae5d-101a0b415602",
   "metadata": {},
   "outputs": [],
   "source": []
  }
 ],
 "metadata": {
  "kernelspec": {
   "display_name": "Python 3 (ipykernel)",
   "language": "python",
   "name": "python3"
  },
  "language_info": {
   "codemirror_mode": {
    "name": "ipython",
    "version": 3
   },
   "file_extension": ".py",
   "mimetype": "text/x-python",
   "name": "python",
   "nbconvert_exporter": "python",
   "pygments_lexer": "ipython3",
   "version": "3.11.7"
  }
 },
 "nbformat": 4,
 "nbformat_minor": 5
}
