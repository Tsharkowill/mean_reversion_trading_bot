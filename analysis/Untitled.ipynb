{
 "cells": [
  {
   "cell_type": "code",
   "execution_count": 1,
   "id": "f3da9009-0013-453e-8e95-542ebf28d5e0",
   "metadata": {},
   "outputs": [
    {
     "name": "stdout",
     "output_type": "stream",
     "text": [
      "Dataset expanded and saved to 'expanded_data.csv'\n"
     ]
    }
   ],
   "source": [
    "import pandas as pd\n",
    "\n",
    "# Load your existing dataset\n",
    "df = pd.read_csv('provincial_migration_2021-2023.csv')\n",
    "\n",
    "# Generate t-values from 0 to 1 in increments of 0.01, then add 2.00\n",
    "t_values = [round(x * 0.01, 2) for x in range(101)] + [2.00]\n",
    "\n",
    "# Create a new DataFrame to store the expanded dataset\n",
    "expanded_df = pd.DataFrame()\n",
    "\n",
    "# Iterate over each t-value and replicate the rows in the original DataFrame\n",
    "for t in t_values:\n",
    "    temp_df = df.copy()\n",
    "    temp_df['t'] = t\n",
    "    expanded_df = pd.concat([expanded_df, temp_df], ignore_index=True)\n",
    "\n",
    "# Save the expanded dataset to a CSV file\n",
    "expanded_df.to_csv('expanded_data.csv', index=False)\n",
    "\n",
    "print(\"Dataset expanded and saved to 'expanded_data.csv'\")\n"
   ]
  },
  {
   "cell_type": "code",
   "execution_count": null,
   "id": "ca34bbfd-71db-44fa-a795-94ec8d55f42c",
   "metadata": {},
   "outputs": [],
   "source": [
    "# Load your existing dataset\n",
    "df = pd.read_csv('your_existing_data.csv')\n",
    "\n",
    "# Generate t-values from 0 to 1 in increments of 0.01, then add 2.00\n",
    "t_values = [round(x * 0.01, 2) for x in range(101)] + [2.00]\n",
    "\n",
    "# List of years for which you want to generate the data\n",
    "years = [2020, 2021, 2022]\n",
    "\n",
    "# Create a new DataFrame to store the expanded dataset\n",
    "expanded_df = pd.DataFrame()\n",
    "\n",
    "# Iterate over each year and each t-value to replicate the rows\n",
    "for year in years:\n",
    "    for t in t_values:\n",
    "        temp_df = df.copy()\n",
    "        temp_df['year'] = year\n",
    "        temp_df['t'] = t\n",
    "        expanded_df = pd.concat([expanded_df, temp_df], ignore_index=True)\n",
    "\n",
    "# Save the expanded dataset to a CSV file\n",
    "expanded_df.to_csv('expanded_data_with_years.csv', index=False)\n",
    "\n",
    "print(\"Dataset expanded with years and saved to 'expanded_data_with_years.csv'\")\n"
   ]
  }
 ],
 "metadata": {
  "kernelspec": {
   "display_name": "Python 3 (ipykernel)",
   "language": "python",
   "name": "python3"
  },
  "language_info": {
   "codemirror_mode": {
    "name": "ipython",
    "version": 3
   },
   "file_extension": ".py",
   "mimetype": "text/x-python",
   "name": "python",
   "nbconvert_exporter": "python",
   "pygments_lexer": "ipython3",
   "version": "3.11.7"
  }
 },
 "nbformat": 4,
 "nbformat_minor": 5
}
