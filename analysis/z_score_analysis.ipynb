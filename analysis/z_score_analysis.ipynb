{
 "cells": [
  {
   "cell_type": "code",
   "execution_count": 20,
   "id": "d3cb719f-c386-473a-a781-e812d2b45446",
   "metadata": {},
   "outputs": [],
   "source": [
    "import numpy as np\n",
    "import pandas as pd\n",
    "import matplotlib.pyplot as plt\n",
    "import seaborn as sns\n",
    "\n",
    "sns.set_style('whitegrid')\n"
   ]
  },
  {
   "cell_type": "markdown",
   "id": "8ba33c19-e58c-461d-a8ee-88e8458f20fc",
   "metadata": {},
   "source": [
    "work on the correlation matrix and clustering to find optimal pairs\n",
    "find way with monte carlo simulation to record the returns on individual assets\n",
    "maybe look at optimizing each asset with its own thresholds?\n",
    "trades histogram or kd plot with percent returns\n",
    "find way to backtest and show how a portfolio would have performed over historical data"
   ]
  },
  {
   "cell_type": "markdown",
   "id": "7285723b-c3a7-4b79-8a39-61d7a3deab0c",
   "metadata": {},
   "source": [
    "Calculating the z-score for the price data will allow us to create standardized values to be used in determining trade\n",
    "signals but also in evaluating the distribution of volatility in the asset price."
   ]
  },
  {
   "cell_type": "code",
   "execution_count": 8,
   "id": "984f7f68-b853-42d6-acf1-abd9323ba940",
   "metadata": {},
   "outputs": [],
   "source": [
    "def calculate_zscore(price_data, window):\n",
    "            for market in price_data:\n",
    "                if market == 'time':\n",
    "                    continue\n",
    "                spread_series = price_data[market]\n",
    "                mean = spread_series.rolling(window=window).mean()\n",
    "                std = spread_series.rolling(window=window).std()\n",
    "                price_data[market] = (spread_series - mean) / std\n",
    "\n",
    "price_data_1H = pd.read_csv('./data_test_1H.csv')\n",
    "calculate_zscore(price_data_1H, )\n",
    "price_data_1H.to_csv('zscore_test_1H.csv')"
   ]
  },
  {
   "cell_type": "code",
   "execution_count": 9,
   "id": "8ba4d23b-f307-4ded-b3d7-8b10c37dd10a",
   "metadata": {},
   "outputs": [],
   "source": [
    "price_data_15m = pd.read_csv('./data_test_15m.csv')\n",
    "calculate_zscore(price_data_15m)\n",
    "price_data_15m.to_csv('zscore_test_15.csv')"
   ]
  },
  {
   "cell_type": "markdown",
   "id": "e29ceabc-81df-4de9-ae3e-3da2a4a43eed",
   "metadata": {},
   "source": [
    "I'm also interested in calculating the percent returns and comparing the covariance/correlation matrices of both\n",
    "measures. My assumption is that they will tell me similar things but I'm curious and we're here so why not."
   ]
  },
  {
   "cell_type": "code",
   "execution_count": 18,
   "id": "7498f432-bdf8-4e9e-bb6c-00b6c1859d61",
   "metadata": {},
   "outputs": [],
   "source": [
    "def calculate_returns(price_data: pd.DataFrame) -> pd.DataFrame:\n",
    "\n",
    "    price_data = price_data.copy()\n",
    "    \n",
    "    for market in price_data.columns:\n",
    "        if market == 'time':\n",
    "            continue\n",
    "        price_data[market] = price_data[market].pct_change(fill_method=None)\n",
    "\n",
    "    return price_data\n",
    "\n",
    "\n",
    "price_data_1H = pd.read_csv('./data_test_1H.csv')\n",
    "price_data_1H = calculate_returns(price_data_1H)\n",
    "price_data_1H.to_csv('./pct_returns_1H.csv')"
   ]
  },
  {
   "cell_type": "code",
   "execution_count": 19,
   "id": "f70e7147-786c-4323-afe3-b117ddd460e9",
   "metadata": {},
   "outputs": [],
   "source": [
    "price_data_15m = pd.read_csv('./data_test_15m.csv')\n",
    "price_data_15m = calculate_returns(price_data_15m)\n",
    "price_data_15m.to_csv('./pct_returns_15m.csv')"
   ]
  },
  {
   "cell_type": "code",
   "execution_count": null,
   "id": "9849cf93-80f9-461f-aaee-86d6a5e2fd45",
   "metadata": {},
   "outputs": [],
   "source": [
    "plt.figure(figsize=(10, 6))\n",
    "sns.lineplot(x=price_data['time'], y=price_data['z_score_ETHUSDT'], data=price_data, marker='o')\n",
    "\n",
    "# Customize the plot\n",
    "plt.title('Time Series Plot of Value')\n",
    "plt.xlabel('Timestamp')\n",
    "plt.ylabel('Value')\n",
    "plt.xticks(rotation=45)\n",
    "plt.tight_layout()\n",
    "\n",
    "# Show the plot\n",
    "plt.show()"
   ]
  },
  {
   "cell_type": "code",
   "execution_count": null,
   "id": "31efc8a6-f3f4-4112-a51f-96c9fbd9fb33",
   "metadata": {},
   "outputs": [],
   "source": [
    "# Create the KDE plot\n",
    "plt.figure(figsize=(10, 6))\n",
    "sns.kdeplot(price_data['z_score_ETHUSDT'], fill=True)\n",
    "\n",
    "# Customize the plot\n",
    "plt.title('KDE Plot of Value')\n",
    "plt.xlabel('Value')\n",
    "plt.ylabel('Density')\n",
    "plt.tight_layout()\n",
    "\n",
    "# Show the plot\n",
    "plt.show()\n"
   ]
  },
  {
   "cell_type": "code",
   "execution_count": null,
   "id": "714a1a19-69da-4fdc-8058-3335eb3c5892",
   "metadata": {},
   "outputs": [],
   "source": [
    "plt.figure(figsize=(10, 6))\n",
    "sns.lineplot(x=price_data['time'], y=price_data['z_score_WIFUSDT'], data=price_data, marker='o')\n",
    "\n",
    "# Customize the plot\n",
    "plt.title('Time Series Plot of Value')\n",
    "plt.xlabel('Timestamp')\n",
    "plt.ylabel('Value')\n",
    "plt.xticks(rotation=45)\n",
    "plt.tight_layout()\n",
    "\n",
    "# Show the plot\n",
    "plt.show()"
   ]
  },
  {
   "cell_type": "code",
   "execution_count": null,
   "id": "19ef17bb-cf73-492a-b533-650f415f4686",
   "metadata": {},
   "outputs": [],
   "source": [
    "# Create the KDE plot\n",
    "plt.figure(figsize=(10, 6))\n",
    "sns.kdeplot(price_data['z_score_WIFUSDT'], fill=True)\n",
    "\n",
    "# Customize the plot\n",
    "plt.title('KDE Plot of Value')\n",
    "plt.xlabel('Value')\n",
    "plt.ylabel('Density')\n",
    "plt.tight_layout()\n",
    "\n",
    "# Show the plot\n",
    "plt.show()"
   ]
  },
  {
   "cell_type": "code",
   "execution_count": null,
   "id": "371935d0-0a6b-45aa-adeb-5bcec18532eb",
   "metadata": {},
   "outputs": [],
   "source": [
    "plt.figure(figsize=(10, 6))\n",
    "sns.lineplot(x=price_data['time'], y=price_data['z_score_UNIUSDT'], data=price_data, marker='o')\n",
    "\n",
    "# Customize the plot\n",
    "plt.title('Time Series Plot of Value')\n",
    "plt.xlabel('Timestamp')\n",
    "plt.ylabel('Value')\n",
    "plt.xticks(rotation=45)\n",
    "plt.tight_layout()\n",
    "\n",
    "# Show the plot\n",
    "plt.show()"
   ]
  },
  {
   "cell_type": "code",
   "execution_count": null,
   "id": "0848d1bb-2710-498c-97c6-968fa7392306",
   "metadata": {},
   "outputs": [],
   "source": [
    "# Create the KDE plot\n",
    "plt.figure(figsize=(10, 6))\n",
    "sns.kdeplot(price_data['z_score_UNIUSDT'], fill=True)\n",
    "\n",
    "# Customize the plot\n",
    "plt.title('KDE Plot of Value')\n",
    "plt.xlabel('Value')\n",
    "plt.ylabel('Density')\n",
    "plt.tight_layout()\n",
    "\n",
    "# Show the plot\n",
    "plt.show()"
   ]
  },
  {
   "cell_type": "code",
   "execution_count": null,
   "id": "0951b240-0366-46f8-9203-1fcb1db33ba6",
   "metadata": {},
   "outputs": [],
   "source": []
  }
 ],
 "metadata": {
  "kernelspec": {
   "display_name": "Python 3 (ipykernel)",
   "language": "python",
   "name": "python3"
  },
  "language_info": {
   "codemirror_mode": {
    "name": "ipython",
    "version": 3
   },
   "file_extension": ".py",
   "mimetype": "text/x-python",
   "name": "python",
   "nbconvert_exporter": "python",
   "pygments_lexer": "ipython3",
   "version": "3.11.7"
  }
 },
 "nbformat": 4,
 "nbformat_minor": 5
}
